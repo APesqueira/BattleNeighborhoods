{
 "cells": [
  {
   "cell_type": "markdown",
   "metadata": {},
   "source": [
    "# Capstone Project - The Battle of Neighbourhoods"
   ]
  },
  {
   "cell_type": "markdown",
   "metadata": {},
   "source": [
    "## Introduction\n",
    "In the city of Lisbon in Portugal I made the identification of the perfect location to a restaurant. This restaurant have a unique tasting menu, where the irreverent chef Antonio Pesqueira shows his most authorial side, in original creations. In this laboratory of his, each dish is a voyage through Portuguese flavors – working more and more closely with national suppliers - and, for now, there are only 30 seats available for you to get to know it. Soon, with no set date yet, the name should be Coursera Rest.\n",
    "\n",
    "Choosing a location for any new restaurant is very important and, once chosen, can be expensive and time consuming to change later on.<br>\n",
    "\n",
    "The best places in Lisbon to open the restaurant can be in the center of the city such as Alfama (see example sites below)<br>\n",
    "\n",
    "One of the key factors is the peaceful area and low crowded number of tourists. \n",
    "\n",
    "-  [Important considerations](https://www.tripadvisor.com/Restaurants-g189158-zfp43-Lisbon_Lisbon_District_Central_Portugal.html)\n",
    "-  [Important to know about Bairro Alto before decision is made](https://theculturetrip.com/europe/portugal/articles/the-10-best-restaurants-in-bairro-alto-lisbon/)\n"
   ]
  },
  {
   "cell_type": "markdown",
   "metadata": {},
   "source": [
    "## Business Problem\n",
    "\n",
    "Using cluster analysis on Foursquare location data, we can assist a new restaurant owner to identify potential neighbourhoods that are both not untried nor over-saturated and, therefore, potentially viable locations for their new venture. And this is a very important factor for this assessment.\n",
    "\n",
    "For the purposes of this assignment and project, the value of the location may need to be adjusted but will be initiated at 2 restaurants already in the same area. Which is not a lot. <br>\n",
    "Additional criteria and parameters should be consider in order to perform a proper evaluation as below link:\n",
    "\n",
    "-  [SWOT](https://smallbusiness.chron.com/sample-swot-analysis-restaurant-73526.html)"
   ]
  },
  {
   "cell_type": "code",
   "execution_count": null,
   "metadata": {},
   "outputs": [],
   "source": []
  }
 ],
 "metadata": {
  "kernelspec": {
   "display_name": "Python 3",
   "language": "python",
   "name": "python3"
  },
  "language_info": {
   "codemirror_mode": {
    "name": "ipython",
    "version": 3
   },
   "file_extension": ".py",
   "mimetype": "text/x-python",
   "name": "python",
   "nbconvert_exporter": "python",
   "pygments_lexer": "ipython3",
   "version": "3.6.6"
  }
 },
 "nbformat": 4,
 "nbformat_minor": 2
}
